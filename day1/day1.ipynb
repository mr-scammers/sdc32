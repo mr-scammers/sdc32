{
 "cells": [
  {
   "cell_type": "code",
   "execution_count": null,
   "metadata": {},
   "outputs": [
    {
     "name": "stdout",
     "output_type": "stream",
     "text": [
      "0 is perfect root\n",
      "1 is perfect root\n",
      "4 is perfect root\n",
      "9 is perfect root\n"
     ]
    }
   ],
   "source": [
    "# perfect number or not\n",
    "def perfect_number(n):\n",
    "    n=n**0.5\n",
    "    if n.is_integer():\n",
    "        return True\n",
    "    return False\n",
    "n=int(input())\n",
    "for i in range(n):\n",
    "    if perfect_number(i):\n",
    "        print(f\"{i} is perfect root\")"
   ]
  },
  {
   "cell_type": "code",
   "execution_count": 5,
   "metadata": {},
   "outputs": [
    {
     "name": "stdout",
     "output_type": "stream",
     "text": [
      "malayalan is not a palindrome\n"
     ]
    }
   ],
   "source": [
    "#palindrome or not\n",
    "a=\"malayalan\"\n",
    "b=a[::-1]\n",
    "if b==a:\n",
    "    print(f\"{a} is palindrome\")\n",
    "else:\n",
    "    print(f\"{a} is not a palindrome\")"
   ]
  },
  {
   "cell_type": "code",
   "execution_count": 8,
   "metadata": {},
   "outputs": [
    {
     "name": "stdout",
     "output_type": "stream",
     "text": [
      "malayalan is not a palindrome\n"
     ]
    }
   ],
   "source": [
    "a=\"malayalan\"\n",
    "b=\"\"\n",
    "for i in a:\n",
    "    b=i+b\n",
    "if b==a:\n",
    "    print(f\"{a} is palindrome\")\n",
    "else:\n",
    "    print(f\"{a} is not a palindrome\") "
   ]
  }
 ],
 "metadata": {
  "kernelspec": {
   "display_name": "Python 3",
   "language": "python",
   "name": "python3"
  },
  "language_info": {
   "codemirror_mode": {
    "name": "ipython",
    "version": 3
   },
   "file_extension": ".py",
   "mimetype": "text/x-python",
   "name": "python",
   "nbconvert_exporter": "python",
   "pygments_lexer": "ipython3",
   "version": "3.12.2"
  }
 },
 "nbformat": 4,
 "nbformat_minor": 2
}
