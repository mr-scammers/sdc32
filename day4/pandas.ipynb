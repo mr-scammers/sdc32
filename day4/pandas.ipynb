{
 "cells": [
  {
   "cell_type": "code",
   "execution_count": 71,
   "metadata": {},
   "outputs": [
    {
     "name": "stdout",
     "output_type": "stream",
     "text": [
      "      name  age  marks\n",
      "0  swaroop   20     80\n",
      "1     tiru   19     75\n",
      "2  srinadh   22     70\n",
      "3    ashok   21     75\n",
      "4     yogi   20     85\n"
     ]
    }
   ],
   "source": [
    "#creating a dataframe\n",
    "import pandas as pd\n",
    "\n",
    "data={\n",
    "        \"name\":[\"swaroop\",\"tiru\",'srinadh','ashok','yogi'],\n",
    "        \"age\":[20,19,22,21,20],\n",
    "        'marks':[80,75,70,75,85]\n",
    "    }\n",
    "df=pd.DataFrame(data)\n",
    "print(df)\n",
    "\n"
   ]
  },
  {
   "cell_type": "code",
   "execution_count": 72,
   "metadata": {},
   "outputs": [
    {
     "name": "stdout",
     "output_type": "stream",
     "text": [
      "      name  age  marks\n",
      "0  swaroop   20     80\n",
      "1     tiru   19     75\n",
      "2  srinadh   22     70\n"
     ]
    }
   ],
   "source": [
    "#for printing  top rows\n",
    "print(df.head(3))"
   ]
  },
  {
   "cell_type": "code",
   "execution_count": 73,
   "metadata": {},
   "outputs": [
    {
     "name": "stdout",
     "output_type": "stream",
     "text": [
      "20.4\n"
     ]
    }
   ],
   "source": [
    "# for average(mean)\n",
    "print(df['age'].mean())"
   ]
  },
  {
   "cell_type": "code",
   "execution_count": 74,
   "metadata": {},
   "outputs": [
    {
     "name": "stdout",
     "output_type": "stream",
     "text": [
      "      name  age  marks\n",
      "1     tiru   19     75\n",
      "0  swaroop   20     80\n",
      "4     yogi   20     85\n",
      "3    ashok   21     75\n",
      "2  srinadh   22     70\n"
     ]
    }
   ],
   "source": [
    "# sorting\n",
    "df=df.sort_values(by='age',ascending=True)\n",
    "print(df)"
   ]
  },
  {
   "cell_type": "code",
   "execution_count": 75,
   "metadata": {},
   "outputs": [
    {
     "name": "stdout",
     "output_type": "stream",
     "text": [
      "      name  age  marks\n",
      "3    ashok   21     75\n",
      "2  srinadh   22     70\n"
     ]
    }
   ],
   "source": [
    "# printing filtered sd\n",
    "filtered_df=df[df['age']>20]\n",
    "print(filtered_df)"
   ]
  },
  {
   "cell_type": "code",
   "execution_count": 76,
   "metadata": {},
   "outputs": [
    {
     "name": "stdout",
     "output_type": "stream",
     "text": [
      "      name  age  marks result\n",
      "1     tiru   19     75   fail\n",
      "0  swaroop   20     80   pass\n",
      "4     yogi   20     85   pass\n",
      "3    ashok   21     75   fail\n",
      "2  srinadh   22     70   fail\n"
     ]
    }
   ],
   "source": [
    "df['result']=df['marks'].apply(lambda x:\"pass\" if x>75 else \"fail\")\n",
    "print(df)"
   ]
  },
  {
   "cell_type": "code",
   "execution_count": 77,
   "metadata": {},
   "outputs": [
    {
     "name": "stdout",
     "output_type": "stream",
     "text": [
      "      name  age  marks result   Eligibility\n",
      "1     tiru   19     75   fail  Not Eligible\n",
      "0  swaroop   20     80   pass  Not Eligible\n",
      "4     yogi   20     85   pass  Not Eligible\n",
      "3    ashok   21     75   fail      Eligible\n",
      "2  srinadh   22     70   fail      Eligible\n"
     ]
    }
   ],
   "source": [
    "df['Eligibility']=df['age'].apply(lambda x:\"Eligible\" if x>20 else \"Not Eligible\")\n",
    "print(df)"
   ]
  },
  {
   "cell_type": "code",
   "execution_count": 78,
   "metadata": {},
   "outputs": [
    {
     "name": "stdout",
     "output_type": "stream",
     "text": [
      "      name  age  marks result   Eligibility\n",
      "0     tiru   19     75   fail  Not Eligible\n",
      "1  swaroop   20     80   pass  Not Eligible\n",
      "2     yogi   20     85   pass  Not Eligible\n",
      "3    ashok   21     75   fail      Eligible\n",
      "4  srinadh   22     70   fail      Eligible\n",
      "5      sai   20     76    NaN           NaN\n"
     ]
    }
   ],
   "source": [
    "ndf=pd.DataFrame({\"name\":['sai'],\"age\":[20],\"marks\":[76]})\n",
    "df=pd.concat([df,ndf],ignore_index=True)\n",
    "print(df)"
   ]
  },
  {
   "cell_type": "code",
   "execution_count": 79,
   "metadata": {},
   "outputs": [
    {
     "name": "stdout",
     "output_type": "stream",
     "text": [
      "85\n"
     ]
    }
   ],
   "source": [
    "\n",
    "print(df[\"marks\"].max())"
   ]
  },
  {
   "cell_type": "code",
   "execution_count": 80,
   "metadata": {},
   "outputs": [
    {
     "name": "stdout",
     "output_type": "stream",
     "text": [
      "    name    age  marks  result  Eligibility\n",
      "0  False  False  False   False        False\n",
      "1  False  False  False   False        False\n",
      "2  False  False  False   False        False\n",
      "3  False  False  False   False        False\n",
      "4  False  False  False   False        False\n",
      "5  False  False  False    True         True\n"
     ]
    }
   ],
   "source": [
    "c=df.isnull()\n",
    "print(c)"
   ]
  },
  {
   "cell_type": "code",
   "execution_count": 81,
   "metadata": {},
   "outputs": [
    {
     "name": "stdout",
     "output_type": "stream",
     "text": [
      "      name  age  marks result   Eligibility\n",
      "0     tiru   19     75   fail  Not Eligible\n",
      "1  swaroop   20     80   pass  Not Eligible\n",
      "2     yogi   20     85   pass  Not Eligible\n",
      "3    ashok   21     75   fail      Eligible\n",
      "4  srinadh   22     70   fail      Eligible\n",
      "5      sai   20     76    NaN           NaN\n"
     ]
    }
   ],
   "source": [
    "df= df.drop_duplicates()\n",
    "print(df)"
   ]
  },
  {
   "cell_type": "code",
   "execution_count": 82,
   "metadata": {},
   "outputs": [
    {
     "name": "stdout",
     "output_type": "stream",
     "text": [
      "      name  age  marks result\n",
      "0     tiru   19     75   fail\n",
      "1  swaroop   20     80   pass\n",
      "2     yogi   20     85   pass\n",
      "3    ashok   21     75   fail\n",
      "4  srinadh   22     70   fail\n",
      "5      sai   20     76    NaN\n"
     ]
    }
   ],
   "source": [
    "df=df.drop(\"Eligibility\",axis=1)\n",
    "print(df)"
   ]
  },
  {
   "cell_type": "code",
   "execution_count": 83,
   "metadata": {},
   "outputs": [
    {
     "name": "stdout",
     "output_type": "stream",
     "text": [
      "      name  age  marks result\n",
      "1  swaroop   20     80   pass\n",
      "2     yogi   20     85   pass\n",
      "3    ashok   21     75   fail\n",
      "4  srinadh   22     70   fail\n",
      "5      sai   20     76    NaN\n"
     ]
    }
   ],
   "source": [
    "df=df.drop(0,axis=0)\n",
    "print(df)"
   ]
  }
 ],
 "metadata": {
  "kernelspec": {
   "display_name": "Python 3",
   "language": "python",
   "name": "python3"
  },
  "language_info": {
   "codemirror_mode": {
    "name": "ipython",
    "version": 3
   },
   "file_extension": ".py",
   "mimetype": "text/x-python",
   "name": "python",
   "nbconvert_exporter": "python",
   "pygments_lexer": "ipython3",
   "version": "3.12.2"
  }
 },
 "nbformat": 4,
 "nbformat_minor": 2
}
