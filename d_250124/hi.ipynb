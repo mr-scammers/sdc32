{
 "cells": [
  {
   "cell_type": "code",
   "execution_count": 13,
   "metadata": {},
   "outputs": [
    {
     "name": "stdout",
     "output_type": "stream",
     "text": [
      "     Home   Price  SqFt  Bedrooms  Bathrooms  Offers Brick Neighborhood\n",
      "0       1  114300  1790         2          2       2    No         East\n",
      "1       2  114200  2030         4          2       3    No         East\n",
      "2       3  114800  1740         3          2       1    No         East\n",
      "3       4   94700  1980         3          2       3    No         East\n",
      "4       5  119800  2130         3          3       3    No         East\n",
      "..    ...     ...   ...       ...        ...     ...   ...          ...\n",
      "123   124  119700  1900         3          3       3   Yes         East\n",
      "124   125  147900  2160         4          3       3   Yes         East\n",
      "125   126  113500  2070         2          2       2    No        North\n",
      "126   127  149900  2020         3          3       1    No         West\n",
      "127   128  124600  2250         3          3       4    No        North\n",
      "\n",
      "[128 rows x 8 columns]\n"
     ]
    }
   ],
   "source": [
    "import pandas as pd\n",
    "df=pd.read_csv(\"house-prices.csv\")\n",
    "print(df)"
   ]
  },
  {
   "cell_type": "code",
   "execution_count": null,
   "metadata": {},
   "outputs": [],
   "source": []
  },
  {
   "cell_type": "code",
   "execution_count": 16,
   "metadata": {},
   "outputs": [],
   "source": [
    "x=df.drop([\"Price\"],axis=\"columns\")\n",
    "y=df[\"Price\"]\n",
    "x=pd.get_dummies(x,drop_first=True,dtype=int)"
   ]
  },
  {
   "cell_type": "code",
   "execution_count": 21,
   "metadata": {},
   "outputs": [
    {
     "name": "stdout",
     "output_type": "stream",
     "text": [
      "(76, 8)\n",
      "(52, 8)\n",
      "(76,)\n",
      "(52,)\n"
     ]
    }
   ],
   "source": [
    "from sklearn.model_selection import train_test_split\n",
    "\n",
    "xtrain,xtest,ytrain,ytest = train_test_split(x,y,test_size=0.4)\n",
    "print(xtrain.shape)\n",
    "print(xtest.shape)\n",
    "print(ytrain.shape)\n",
    "print(ytest.shape)"
   ]
  },
  {
   "cell_type": "code",
   "execution_count": null,
   "metadata": {},
   "outputs": [],
   "source": [
    "from sklearn.linear_model import LinearRegression\n",
    "model=LinearRegression()\n",
    "model.fit(xtrain,ytrain)\n",
    "predictions = model.predict(xtest)\n",
    "print(predictions)"
   ]
  },
  {
   "cell_type": "code",
   "execution_count": 24,
   "metadata": {},
   "outputs": [
    {
     "name": "stdout",
     "output_type": "stream",
     "text": [
      "118878399.52130404\n",
      "0.8610699952525216\n"
     ]
    }
   ],
   "source": [
    "from sklearn.metrics import mean_squared_error,r2_score\n",
    "mse=mean_squared_error(ytest,predictions)\n",
    "r2=r2_score(ytest,predictions)\n",
    "print(mse)\n",
    "print(r2)"
   ]
  },
  {
   "cell_type": "code",
   "execution_count": null,
   "metadata": {},
   "outputs": [],
   "source": [
    "from sklearn.metrics import accuracy_score,prediction_score,recall_score,f1_score,confusion_matrix\n",
    "accuracy=accuracy_score(ytest,predictions,average=\"weighted\")\n",
    "recall=recall_score(ytest,predictions,average=\"weighted\")\n",
    "prediction=prediction_score(ytest,predictions,average=\"weighted\")\n",
    "f1=f1_score(ytest,predictions,average=\"weighted\")\n",
    "accuracy=accuracy_score(ytest,predictions,average=\"weighted\")\n"
   ]
  }
 ],
 "metadata": {
  "kernelspec": {
   "display_name": "Python 3",
   "language": "python",
   "name": "python3"
  },
  "language_info": {
   "codemirror_mode": {
    "name": "ipython",
    "version": 3
   },
   "file_extension": ".py",
   "mimetype": "text/x-python",
   "name": "python",
   "nbconvert_exporter": "python",
   "pygments_lexer": "ipython3",
   "version": "3.12.2"
  }
 },
 "nbformat": 4,
 "nbformat_minor": 2
}
