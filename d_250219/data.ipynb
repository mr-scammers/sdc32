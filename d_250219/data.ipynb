{
 "cells": [
  {
   "cell_type": "code",
   "execution_count": 63,
   "metadata": {},
   "outputs": [
    {
     "name": "stdout",
     "output_type": "stream",
     "text": [
      "Defaulting to user installation because normal site-packages is not writeable\n",
      "Requirement already satisfied: pandas in c:\\users\\swaro\\appdata\\roaming\\python\\python312\\site-packages (2.2.1)\n",
      "Requirement already satisfied: numpy in c:\\users\\swaro\\appdata\\roaming\\python\\python312\\site-packages (1.26.4)\n",
      "Requirement already satisfied: matplotlib in c:\\users\\swaro\\appdata\\roaming\\python\\python312\\site-packages (3.8.4)\n",
      "Requirement already satisfied: seaborn in c:\\users\\swaro\\appdata\\roaming\\python\\python312\\site-packages (0.13.2)\n",
      "Requirement already satisfied: scikit-learn in c:\\users\\swaro\\appdata\\roaming\\python\\python312\\site-packages (1.4.1.post1)\n",
      "Requirement already satisfied: python-dateutil>=2.8.2 in c:\\users\\swaro\\appdata\\roaming\\python\\python312\\site-packages (from pandas) (2.9.0.post0)\n",
      "Requirement already satisfied: pytz>=2020.1 in c:\\users\\swaro\\appdata\\roaming\\python\\python312\\site-packages (from pandas) (2024.1)\n",
      "Requirement already satisfied: tzdata>=2022.7 in c:\\users\\swaro\\appdata\\roaming\\python\\python312\\site-packages (from pandas) (2024.1)\n",
      "Requirement already satisfied: contourpy>=1.0.1 in c:\\users\\swaro\\appdata\\roaming\\python\\python312\\site-packages (from matplotlib) (1.2.1)\n",
      "Requirement already satisfied: cycler>=0.10 in c:\\users\\swaro\\appdata\\roaming\\python\\python312\\site-packages (from matplotlib) (0.12.1)\n",
      "Requirement already satisfied: fonttools>=4.22.0 in c:\\users\\swaro\\appdata\\roaming\\python\\python312\\site-packages (from matplotlib) (4.51.0)\n",
      "Requirement already satisfied: kiwisolver>=1.3.1 in c:\\users\\swaro\\appdata\\roaming\\python\\python312\\site-packages (from matplotlib) (1.4.5)\n",
      "Requirement already satisfied: packaging>=20.0 in c:\\users\\swaro\\appdata\\roaming\\python\\python312\\site-packages (from matplotlib) (24.0)\n",
      "Requirement already satisfied: pillow>=8 in c:\\users\\swaro\\appdata\\roaming\\python\\python312\\site-packages (from matplotlib) (10.2.0)\n",
      "Requirement already satisfied: pyparsing>=2.3.1 in c:\\users\\swaro\\appdata\\roaming\\python\\python312\\site-packages (from matplotlib) (3.1.2)\n",
      "Requirement already satisfied: scipy>=1.6.0 in c:\\users\\swaro\\appdata\\roaming\\python\\python312\\site-packages (from scikit-learn) (1.13.0)\n",
      "Requirement already satisfied: joblib>=1.2.0 in c:\\users\\swaro\\appdata\\roaming\\python\\python312\\site-packages (from scikit-learn) (1.4.0)\n",
      "Requirement already satisfied: threadpoolctl>=2.0.0 in c:\\users\\swaro\\appdata\\roaming\\python\\python312\\site-packages (from scikit-learn) (3.4.0)\n",
      "Requirement already satisfied: six>=1.5 in c:\\users\\swaro\\appdata\\roaming\\python\\python312\\site-packages (from python-dateutil>=2.8.2->pandas) (1.16.0)\n",
      "Note: you may need to restart the kernel to use updated packages.\n"
     ]
    }
   ],
   "source": [
    "%pip install pandas numpy matplotlib seaborn scikit-learn\n"
   ]
  },
  {
   "cell_type": "code",
   "execution_count": 64,
   "metadata": {},
   "outputs": [],
   "source": [
    "import pandas as pd\n",
    "\n",
    "#creating dataframe\n",
    "data={\n",
    "    \"age\":[23,24,25,29],\n",
    "    \"salary\":[45000,55000,63000,69000],\n",
    "    \"city\":[\"mumbai\",\"chennai\",'hyderabad','goa'],\n",
    "    'education':[\"high-scool\",'bachelor','master','phi']\n",
    "\n",
    "}\n",
    "df=pd.DataFrame(data)\n"
   ]
  },
  {
   "cell_type": "code",
   "execution_count": 65,
   "metadata": {},
   "outputs": [
    {
     "name": "stdout",
     "output_type": "stream",
     "text": [
      "['age', 'salary']\n",
      "['city', 'education']\n"
     ]
    }
   ],
   "source": [
    "numerical=df.select_dtypes(include=[\"int64\",\"float64\"]).columns\n",
    "categorical=df.select_dtypes(include=[\"object\"]).columns\n",
    "print(numerical.to_list())\n",
    "print(categorical.to_list())\n"
   ]
  },
  {
   "cell_type": "code",
   "execution_count": 66,
   "metadata": {},
   "outputs": [
    {
     "name": "stdout",
     "output_type": "stream",
     "text": [
      "age             int64\n",
      "salary          int64\n",
      "city         category\n",
      "education    category\n",
      "dtype: object\n"
     ]
    }
   ],
   "source": [
    "df[\"city\"]=df['city'].astype(\"category\")\n",
    "df['education']=df[\"education\"].astype(\"category\")\n",
    "print(df.dtypes)\n"
   ]
  },
  {
   "cell_type": "code",
   "execution_count": 67,
   "metadata": {},
   "outputs": [],
   "source": [
    "nominal=[\"city\"]\n",
    "ordinal=[\"education\"]\n",
    "\n"
   ]
  },
  {
   "cell_type": "code",
   "execution_count": 68,
   "metadata": {},
   "outputs": [
    {
     "name": "stdout",
     "output_type": "stream",
     "text": [
      "    education\n",
      "0  high-scool\n",
      "1    bachelor\n",
      "2      master\n",
      "3         phi\n",
      "   age  salary       city   education\n",
      "0   23   45000     mumbai  high-scool\n",
      "1   24   55000    chennai    bachelor\n",
      "2   25   63000  hyderabad      master\n",
      "3   29   69000        goa         phi\n"
     ]
    }
   ],
   "source": [
    "order=[\"high-scool\",'bachelor','master','phi']\n",
    "df[\"education\"]=pd.Categorical(df[\"education\"],categories=order,ordered=True)\n",
    "print(df[[\"education\"]])\n",
    "print(df)\n"
   ]
  },
  {
   "cell_type": "code",
   "execution_count": 69,
   "metadata": {},
   "outputs": [
    {
     "name": "stdout",
     "output_type": "stream",
     "text": [
      "    education  education_Encoding\n",
      "0  high-scool                 0.0\n",
      "1    bachelor                 1.0\n",
      "2      master                 2.0\n",
      "3         phi                 3.0\n"
     ]
    }
   ],
   "source": [
    "#ordinal encoding\n",
    "\n",
    "from sklearn.preprocessing import OrdinalEncoder\n",
    "ordinal_encoder=OrdinalEncoder(categories=[order])\n",
    "df[\"education_Encoding\"]=ordinal_encoder.fit_transform(df[[\"education\"]])\n",
    "print(df[[\"education\",\"education_Encoding\"]])\n"
   ]
  },
  {
   "cell_type": "code",
   "execution_count": 70,
   "metadata": {},
   "outputs": [
    {
     "name": "stdout",
     "output_type": "stream",
     "text": [
      "        city  city_Label_Encoding\n",
      "0     mumbai                    3\n",
      "1    chennai                    0\n",
      "2  hyderabad                    2\n",
      "3        goa                    1\n"
     ]
    },
    {
     "name": "stderr",
     "output_type": "stream",
     "text": [
      "C:\\Users\\swaro\\AppData\\Roaming\\Python\\Python312\\site-packages\\sklearn\\preprocessing\\_label.py:114: DataConversionWarning: A column-vector y was passed when a 1d array was expected. Please change the shape of y to (n_samples, ), for example using ravel().\n",
      "  y = column_or_1d(y, warn=True)\n"
     ]
    }
   ],
   "source": [
    "#label encoding\n",
    "\n",
    "from sklearn.preprocessing import LabelEncoder\n",
    "ordinal_encoder=LabelEncoder()\n",
    "df[\"city_Label_Encoding\"]=ordinal_encoder.fit_transform(df[[\"city\"]])\n",
    "print(df[[\"city\",\"city_Label_Encoding\"]])"
   ]
  },
  {
   "cell_type": "code",
   "execution_count": 71,
   "metadata": {},
   "outputs": [
    {
     "name": "stdout",
     "output_type": "stream",
     "text": [
      "        city  city_Label_frequency\n",
      "0     mumbai                  0.25\n",
      "1    chennai                  0.25\n",
      "2  hyderabad                  0.25\n",
      "3        goa                  0.25\n"
     ]
    }
   ],
   "source": [
    "#frequency encoding\n",
    "\n",
    "df[\"city_Label_frequency\"]=df[\"city\"].map(df[\"city\"].value_counts(normalize=True))\n",
    "print(df[[\"city\",\"city_Label_frequency\"]])"
   ]
  }
 ],
 "metadata": {
  "kernelspec": {
   "display_name": "Python 3",
   "language": "python",
   "name": "python3"
  },
  "language_info": {
   "codemirror_mode": {
    "name": "ipython",
    "version": 3
   },
   "file_extension": ".py",
   "mimetype": "text/x-python",
   "name": "python",
   "nbconvert_exporter": "python",
   "pygments_lexer": "ipython3",
   "version": "3.12.2"
  }
 },
 "nbformat": 4,
 "nbformat_minor": 2
}
